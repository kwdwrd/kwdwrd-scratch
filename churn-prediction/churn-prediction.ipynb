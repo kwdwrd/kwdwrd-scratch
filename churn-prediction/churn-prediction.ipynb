{
 "cells": [
  {
   "cell_type": "code",
   "execution_count": 34,
   "metadata": {},
   "outputs": [
    {
     "name": "stdout",
     "output_type": "stream",
     "text": [
      "Requirement already satisfied: scikit-learn in /opt/homebrew/lib/python3.11/site-packages (1.5.0)\n",
      "Requirement already satisfied: numpy>=1.19.5 in /opt/homebrew/lib/python3.11/site-packages (from scikit-learn) (1.26.2)\n",
      "Requirement already satisfied: scipy>=1.6.0 in /opt/homebrew/lib/python3.11/site-packages (from scikit-learn) (1.11.4)\n",
      "Requirement already satisfied: joblib>=1.2.0 in /opt/homebrew/lib/python3.11/site-packages (from scikit-learn) (1.4.2)\n",
      "Requirement already satisfied: threadpoolctl>=3.1.0 in /opt/homebrew/lib/python3.11/site-packages (from scikit-learn) (3.5.0)\n",
      "\n",
      "\u001b[1m[\u001b[0m\u001b[34;49mnotice\u001b[0m\u001b[1;39;49m]\u001b[0m\u001b[39;49m A new release of pip is available: \u001b[0m\u001b[31;49m24.0\u001b[0m\u001b[39;49m -> \u001b[0m\u001b[32;49m24.1\u001b[0m\n",
      "\u001b[1m[\u001b[0m\u001b[34;49mnotice\u001b[0m\u001b[1;39;49m]\u001b[0m\u001b[39;49m To update, run: \u001b[0m\u001b[32;49mpython3.11 -m pip install --upgrade pip\u001b[0m\n",
      "Note: you may need to restart the kernel to use updated packages.\n",
      "Requirement already satisfied: xgboost in /opt/homebrew/lib/python3.11/site-packages (2.1.0)\n",
      "Requirement already satisfied: numpy in /opt/homebrew/lib/python3.11/site-packages (from xgboost) (1.26.2)\n",
      "Requirement already satisfied: scipy in /opt/homebrew/lib/python3.11/site-packages (from xgboost) (1.11.4)\n",
      "\n",
      "\u001b[1m[\u001b[0m\u001b[34;49mnotice\u001b[0m\u001b[1;39;49m]\u001b[0m\u001b[39;49m A new release of pip is available: \u001b[0m\u001b[31;49m24.0\u001b[0m\u001b[39;49m -> \u001b[0m\u001b[32;49m24.1\u001b[0m\n",
      "\u001b[1m[\u001b[0m\u001b[34;49mnotice\u001b[0m\u001b[1;39;49m]\u001b[0m\u001b[39;49m To update, run: \u001b[0m\u001b[32;49mpython3.11 -m pip install --upgrade pip\u001b[0m\n"
     ]
    },
    {
     "ename": "",
     "evalue": "",
     "output_type": "error",
     "traceback": [
      "\u001b[1;31mThe Kernel crashed while executing code in the the current cell or a previous cell. Please review the code in the cell(s) to identify a possible cause of the failure. Click <a href='https://aka.ms/vscodeJupyterKernelCrash'>here</a> for more info. View Jupyter <a href='command:jupyter.viewOutput'>log</a> for further details."
     ]
    }
   ],
   "source": [
    "%pip install scikit-learn\n",
    "%pip install xgboost\n",
    "\n",
    "import os\n",
    "os._exit( 0 )"
   ]
  },
  {
   "cell_type": "code",
   "execution_count": 2,
   "metadata": {},
   "outputs": [],
   "source": [
    "import numpy as np\n",
    "import pandas as pd\n",
    "\n",
    "# these may be independently useful\n",
    "demographic_variables = [ 'sex', 'age', 'distance_to_club' ]\n",
    "behavioral_variables = [ 'visits', 'spend' ]"
   ]
  },
  {
   "cell_type": "code",
   "execution_count": 54,
   "metadata": {},
   "outputs": [],
   "source": [
    "#\n",
    "# This cell exists only to form a dataset, if you've got a CSV you can bypass it\n",
    "#\n",
    "\n",
    "months = [ 1, 2, 3, 4, 5, 6 ]\n",
    "customers = 3000\n",
    "active_threshold = -2\n",
    "\n",
    "simulated_data = np.random.normal( size = ( len( months ) * customers, len( demographic_variables ) + len( behavioral_variables ) + 1 ) )\n",
    "simulated_data = pd.DataFrame( simulated_data, columns = [ *demographic_variables, *behavioral_variables, 'active'] )\n",
    "simulated_data = simulated_data.assign( customer_id = lambda _df: _df.index // len( months ) )\n",
    "simulated_data = simulated_data.assign( month = months * customers )\n",
    "\n",
    "simulated_data = simulated_data.assign( active = lambda _df: np.where( _df.active < active_threshold, 0, 1 ) )\n",
    "initial_demos = simulated_data.query( 'month == 1' )[['customer_id',*demographic_variables]]\n",
    "simulated_data = simulated_data.drop( demographic_variables, axis = 1 ).merge( initial_demos, on = 'customer_id' )\n",
    "first_churn_month = simulated_data.query( 'active == 0' ).groupby( 'customer_id' )['month'].min().reset_index().rename( columns = { 'month': 'first_churn_month' } )\n",
    "simulated_data = simulated_data \\\n",
    "    .merge( first_churn_month, on = 'customer_id', how = 'left' ) \\\n",
    "    .assign( first_churn_month = lambda _df: _df.first_churn_month.fillna( max( months ) + 1 ) ) \\\n",
    "    .assign( sex = lambda _df: np.where( _df.sex < 1e-1, 1, 0 ) ) \\\n",
    "    .query( 'month <= first_churn_month' )"
   ]
  },
  {
   "cell_type": "code",
   "execution_count": 55,
   "metadata": {},
   "outputs": [],
   "source": [
    "#\n",
    "# Merge the dataset on itself, last month\n",
    "# Note that this assumes that demographics are stable\n",
    "#\n",
    "data = simulated_data\n",
    "data = data \\\n",
    "    .assign( month = lambda _df: _df.month - 1 ) \\\n",
    "    .merge(\n",
    "        data \\\n",
    "            [['customer_id','month',*behavioral_variables]] \\\n",
    "            .rename( columns = { column: f'last_{column}' for column in behavioral_variables } ),\n",
    "        on = [ 'customer_id', 'month' ]\n",
    "    ) \\\n",
    "    .assign( month = lambda _df: _df.month + 1 )\n",
    "\n",
    "for column in behavioral_variables:\n",
    "    data = data.assign( **{ f'delta_{column}': lambda _df: _df[column] - _df[f'last_{column}'] } )\n",
    "    data = data.assign( **{ f'delta_{column}_pct': lambda _df: _df[f'delta_{column}'] / _df[f'last_{column}'] } )\n",
    "\n"
   ]
  },
  {
   "cell_type": "code",
   "execution_count": 58,
   "metadata": {},
   "outputs": [],
   "source": [
    "#\n",
    "# Train a model\n",
    "#\n",
    "from sklearn.utils import class_weight\n",
    "import xgboost\n",
    "\n",
    "independent_variables = [\n",
    "    *demographic_variables,\n",
    "    *[ f'last_{variable}' for variable in behavioral_variables ],\n",
    "    *[ f'delta_{variable}' for variable in behavioral_variables ],\n",
    "    *[ f'delta_{variable}_pct' for variable in behavioral_variables ]\n",
    "]\n",
    "dependent_variables = 'active'\n",
    "\n",
    "xgb = xgboost.XGBClassifier()\n",
    "balanced_weights = class_weight.compute_sample_weight( class_weight = 'balanced', y = data[dependent_variables] )\n",
    "xgb_res = xgb.fit( data[independent_variables], data[dependent_variables], sample_weight = balanced_weights )"
   ]
  },
  {
   "cell_type": "code",
   "execution_count": 59,
   "metadata": {},
   "outputs": [
    {
     "data": {
      "image/png": "[encoded data removed]",
      "text/plain": [
       "<Figure size 640x480 with 1 Axes>"
      ]
     },
     "metadata": {},
     "output_type": "display_data"
    }
   ],
   "source": [
    "#\n",
    "# Use it\n",
    "#\n",
    "import matplotlib.pyplot as plot\n",
    "\n",
    "pr_churn = xgb_res.predict_proba( data[independent_variables] )[:,0]\n",
    "predictions = data[['customer_id','month','active']].assign( pr_churn = pr_churn )\n",
    "\n",
    "plot.boxplot( [ predictions.query( f'active == {active}' ).pr_churn for active in [ 0, 1 ] ], labels = [ 'Churn', 'Active' ] )\n",
    "plot.title( 'Pr( churn ) distribution given churn state' )\n",
    "plot.show()"
   ]
  }
 ],
 "metadata": {
  "language_info": {
   "name": "python"
  }
 },
 "nbformat": 4,
 "nbformat_minor": 2
}
